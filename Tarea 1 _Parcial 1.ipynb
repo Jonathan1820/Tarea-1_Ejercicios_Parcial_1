{
  "nbformat": 4,
  "nbformat_minor": 0,
  "metadata": {
    "kernelspec": {
      "display_name": "Python 3",
      "language": "python",
      "name": "python3"
    },
    "language_info": {
      "codemirror_mode": {
        "name": "ipython",
        "version": 3
      },
      "file_extension": ".py",
      "mimetype": "text/x-python",
      "name": "python",
      "nbconvert_exporter": "python",
      "pygments_lexer": "ipython3",
      "version": "3.8.2"
    },
    "colab": {
      "name": "Clases.ipynb",
      "provenance": []
    }
  },
  "cells": [
    {
      "cell_type": "markdown",
      "metadata": {
        "id": "m1XgWjcYox8d"
      },
      "source": [
        "## 2.3 Ejercicios\n",
        "\n",
        "1. **Restaurante:** a) Crear una clase llamada `Restaurant`. El método `__init__()` debe de aceptar dos atributos: El `nombre_restaurant` y el `tipo_cocina`.b) Crear un método que se llame `describe_restaurant` que imprima: *El nombre del restaurant es: ------* y *El tipo de comida que se sirve es: -------*. c) Generar\n",
        "2. **Tres Restaurantes:** Crear tres restaurantes utilizando la clase que se ha definido con anterioridad y llame al método `describe_restaurant` para cada instancia de la clase. \n",
        "3. **Usuarios:** a) Cree una clase que se llame `Usuario`. b)Cree dos atributos llamados `Nombre` y `Apellido`, agregue atributos como `CURP`,`Fecha_Nacimiento`, `Sexo`, `Grado_estudios`. c)Genere un método llamado `Saluda_usuario` y que despliegue en pantalla algo como *Hola Juan Ruiz de Alarcón*. d)Genere un método que se llame `Describe_usuario` y que muestre toda la información del usuario. e)Genere 5 objetos tipo usuario y ejecute los dos métodos anteriormente descritos."
      ]
    },
    {
      "cell_type": "code",
      "metadata": {
        "id": "GwSa9XVBXwuJ"
      },
      "source": [
        "class Restaurant():\n",
        "  def __init__(self,nombre_restaurant,tipo_cocina):\n",
        "    self.nombre_restaurant = nombre_restaurant\n",
        "    self.tipo_cocina = tipo_cocina\n",
        "\n",
        "  def describe_restaurant(self):\n",
        "    describir = \"el nombre del restaurante es:\" + self.nombre_restaurant + \"y el tipo de comida es:\" + self.tipo_cocina"
      ],
      "execution_count": null,
      "outputs": []
    },
    {
      "cell_type": "code",
      "metadata": {
        "id": "n7_eVdnauzHW",
        "outputId": "bbd9ebfd-6fb7-4c02-d41f-5744386bcb2e",
        "colab": {
          "base_uri": "https://localhost:8080/",
          "height": 51
        }
      },
      "source": [
        "Primer_restaurante = Restaurant('Canelos' , 'Italiana')\n",
        "print(\"El nombre del restaurante es:\" + Primer_restaurante.nombre_restaurant)\n",
        "print(\"el tipo de comida es:\" + Primer_restaurante.tipo_cocina)"
      ],
      "execution_count": null,
      "outputs": [
        {
          "output_type": "stream",
          "text": [
            "El nombre del restaurante es:Canelos\n",
            "el tipo de comida es:Italiana\n"
          ],
          "name": "stdout"
        }
      ]
    },
    {
      "cell_type": "code",
      "metadata": {
        "id": "XcmOfFFDv_XD",
        "outputId": "54e52a05-d89b-42f2-cb9a-6da980603355",
        "colab": {
          "base_uri": "https://localhost:8080/",
          "height": 187
        }
      },
      "source": [
        "Primer_restaurante = Restaurant('Canelos' , 'Italiana')\n",
        "Segundo_restaurante = Restaurant('Tittos' , 'Francesa')\n",
        "tercer_restaurante = Restaurant('El buen taco' , 'Mexicana')\n",
        "\n",
        "print(\"El nombre del restaurante es:\" + Primer_restaurante.nombre_restaurant)\n",
        "print(\"el tipo de comida es:\" + Primer_restaurante.tipo_cocina)\n",
        "print(\"\\n\")\n",
        "\n",
        "print(\"El nombre del restaurante es:\" + Segundo_restaurante.nombre_restaurant)\n",
        "print(\"el tipo de comida es:\" + Segundo_restaurante.tipo_cocina)\n",
        "print(\"\\n\")\n",
        "\n",
        "print(\"El nombre del restaurante es:\" + tercer_restaurante.nombre_restaurant)\n",
        "print(\"el tipo de comida es:\" + tercer_restaurante.tipo_cocina)"
      ],
      "execution_count": null,
      "outputs": [
        {
          "output_type": "stream",
          "text": [
            "El nombre del restaurante es:Canelos\n",
            "el tipo de comida es:Italiana\n",
            "\n",
            "\n",
            "El nombre del restaurante es:Tittos\n",
            "el tipo de comida es:Francesa\n",
            "\n",
            "\n",
            "El nombre del restaurante es:El buen taco\n",
            "el tipo de comida es:Mexicana\n"
          ],
          "name": "stdout"
        }
      ]
    },
    {
      "cell_type": "code",
      "metadata": {
        "id": "Dsv1GTrEx9EQ"
      },
      "source": [
        "class Usuario():\n",
        "  def __init__(self,nombre,apellido,CURP,Fecha_de_Nacimiento,Sexo,Grado_de_estudios):\n",
        "    self.nombre = nombre\n",
        "    self.apellido = apellido\n",
        "    self.CURP = CURP\n",
        "    self.Fecha_de_Nacimiento = Fecha_de_Nacimiento \n",
        "    self.Sexo = Sexo\n",
        "    self.Grado_de_estudios = Grado_de_estudios \n",
        "\n",
        "  def saludar_usuario(self):\n",
        "    print(\"Hola\" + self.nombre.title() + self.apellido)\n",
        "\n",
        "  def describe_usuario(self):\n",
        "    print(\"tu CURP es:\" + self.CURP)\n",
        "    print(\"tu fecha de nacimiento es:\" + self.Fecha_de_Nacimiento)\n",
        "    print(\"Tu genero es:\" + self.Sexo)\n",
        "    print(\"Tu nivel de estudios es:\" + self.Grado_de_estudios)"
      ],
      "execution_count": null,
      "outputs": []
    },
    {
      "cell_type": "code",
      "metadata": {
        "id": "LROpEypW5GUh",
        "outputId": "6bc8e6a4-d965-4abd-961e-470615b8bf7b",
        "colab": {
          "base_uri": "https://localhost:8080/",
          "height": 102
        }
      },
      "source": [
        "gesto_usuario = Usuario('Jonathan', 'Hernandez Sanchez', 'HESJ000118HDFRNNA6' , '18 de enero de 2000' , 'Masculino' , 'Universidad')\n",
        "\n",
        "print(\"Hola \" + gesto_usuario.nombre + \" \" + gesto_usuario.apellido)\n",
        "\n",
        "gesto_usuario.describe_usuario()"
      ],
      "execution_count": null,
      "outputs": [
        {
          "output_type": "stream",
          "text": [
            "Hola Jonathan Hernandez Sanchez\n",
            "tu CURP es:HESJ000118HDFRNNA6\n",
            "tu fecha de nacimiento es:18 de enero de 2000\n",
            "Tu genero es:Masculino\n",
            "Tu nivel de estudios es:Universidad\n"
          ],
          "name": "stdout"
        }
      ]
    },
    {
      "cell_type": "markdown",
      "metadata": {
        "id": "wjjtPxVBox93"
      },
      "source": [
        "### 2.4.4 Ejercicios\n",
        "\n",
        "1. **Clientes atendidos:**   Retomar la clase de **Restaurante** que se generó a lo largo de este *notebook* y agregar un atributo que `clientes_atendidos`  y agregar dos métodos: \n",
        "    1. `Clientes_Atendidos(self,numero):` que pueda modificar el número de clientes\n",
        "        2.`Aumenta_Clientes(self,numero):` que pueda aumentar el número de clientes que se han atendido\n",
        "        \n",
        "2. **Control de acceso**    Acompletar el código de la siguiente celda, que crea una clase Usuario, donde el constructor debe de aceptar el nombre de usuario y la contraseña, cuando se invoque el método `ingresar` debe de pedir la contraseña del usuario, si la contraseña es correcta, debe de imprimir `Bienvenido a su cuenta`, si la contraseña se ingresa incorrectamente 3 veces debe de imprimir `Cuenta bloquead, intente más tarde` y debe de reiniciar la varialbe `self.intentosAcceso` a cero."
      ]
    },
    {
      "cell_type": "code",
      "metadata": {
        "id": "IB9cBZO4cjKv",
        "outputId": "02657080-f828-49cd-d25e-11b7c9862abd",
        "colab": {
          "base_uri": "https://localhost:8080/",
          "height": 85
        }
      },
      "source": [
        "class Restaurant():\n",
        "  def __init__(self,nombre_restaurant,tipo_cocina):\n",
        "    self.nombre_restaurant = nombre_restaurant\n",
        "    self.tipo_cocina = tipo_cocina\n",
        "    self.numeros = numeros = 0\n",
        "\n",
        "  def describe_restaurant(self):\n",
        "    print(\"el nombre del restaurante es:\" + self.nombre_restaurant + \"y el tipo de comida es:\" + self.tipo_cocina)\n",
        "\n",
        "  def clientes_atendidos(self):\n",
        "    print(\"el numero de clientes que se han atendido son: \" + str(self.numeros))\n",
        "\n",
        "  def aumento_clientes(self,numeros_suma):\n",
        "    if numeros_suma >=0:\n",
        "      print(\"Aumento de clientes\")\n",
        "      self.numeros += numeros_suma\n",
        "    else:\n",
        "      print(\"No existen mas clientes\")\n",
        "\n",
        "Primer_restaurante = Restaurant(\"Canelos \" , \"Italiana\")\n",
        "Primer_restaurante.describe_restaurant()\n",
        "Primer_restaurante.clientes_atendidos()\n",
        "Primer_restaurante.aumento_clientes(4)\n",
        "Primer_restaurante.clientes_atendidos()\n",
        "\n"
      ],
      "execution_count": 26,
      "outputs": [
        {
          "output_type": "stream",
          "text": [
            "el nombre del restaurante es:Canelos y el tipo de comida es:Italiana\n",
            "el numero de clientes que se han atendido son: 0\n",
            "Aumento de clientes\n",
            "el numero de clientes que se han atendido son: 4\n"
          ],
          "name": "stdout"
        }
      ]
    },
    {
      "cell_type": "markdown",
      "metadata": {
        "id": "Ss1WJFKAoyBw"
      },
      "source": [
        "### 2.5.5 Ejercicio\n",
        "\n",
        "1. **Heladería:** Una heladería se puede ver como un tipo específico de restaurante. Cree una clase que se llame `Heladeria` que herede de la clase `Restaurante` que se ha desarrollado en los ejercicios anteriores. Cree un atributo que se llame `sabores` que debe de ser una lista (estructura de datos). Agregar un método a la clase `Heladeria` que muestre los sabores que tiene.\n"
      ]
    },
    {
      "cell_type": "code",
      "metadata": {
        "id": "lZbqx67d4yqM",
        "outputId": "5b02eeb7-3c42-41d2-a674-273595c93822",
        "colab": {
          "base_uri": "https://localhost:8080/",
          "height": 102
        }
      },
      "source": [
        "class Heladeria(Restaurant):\n",
        "  def __init__(self,nombre,Cocina_Tipo):\n",
        "    super().__init__(nombre,Cocina_Tipo)  \n",
        "    self.sabores = [\"Uva\", \"Mantquilla\", \"Frambuesa\"]\n",
        "\n",
        "  def mostrar_sabores(self):\n",
        "    print(\"Los sabores disponibles son:\")\n",
        "    for i in self.sabores:\n",
        "      print(i)\n",
        "\n",
        "Postres = Heladeria(\"Canelos \", \"delicias congeladas\")\n",
        "Postres.describe_restaurant()\n",
        "Postres.mostrar_sabores()"
      ],
      "execution_count": 36,
      "outputs": [
        {
          "output_type": "stream",
          "text": [
            "el nombre del restaurante es:Canelos y el tipo de comida es:delicias congeladas\n",
            "Los sabores disponibles son:\n",
            "Uva\n",
            "Mantquilla\n",
            "Frambuesa\n"
          ],
          "name": "stdout"
        }
      ]
    }
  ]
}